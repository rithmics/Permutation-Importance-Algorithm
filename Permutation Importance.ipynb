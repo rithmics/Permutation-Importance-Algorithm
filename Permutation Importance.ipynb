{
 "cells": [
  {
   "cell_type": "markdown",
   "id": "5f0d4f7d",
   "metadata": {},
   "source": [
    "# Feature Importance Using Permutation in Python"
   ]
  },
  {
   "cell_type": "markdown",
   "id": "c87996bd",
   "metadata": {},
   "source": [
    "Permutation importance is a technique used to measure the importance of features in a machine learning model. It provides insights into how much each feature contributes to the model's predictive performance. The basic idea is that we can take a feature, randomly shuffle or permute it, and measure the decrease in the model's predictive performance.\n",
    "\n",
    "Often, permutation importance is used in feature selection, as it can help simplify model building, help improve interpretability, and reduce overfitting. Permutation importance can also be used in evaluating and comparing different models, as we can see which features contribute more to different models' performances. Furthermore, permutation importance doesn't assume any relationship between features and the target. It assesses each feature independently, which allows for the detection of both linear and non-linear relationships. \n",
    "\n",
    "Permutation importance has become an integral part of the toolkit for data scientists and machine learning practitioners seeking to gain insights into feature importance, enhance model interpretability, and make informed decisions based on their models. In this post we're going to look at a simple example of permutation importance and implement a permutation importance algorithm in Python. We'll also look at built-in permutation importance functions in some common Python libraries.\n",
    "\n",
    "## So what is permutation?\n",
    "\n",
    "We can think of permutation as re-arrangement. So, we take a feature and randomly shuffle the values in it. Here is a simple example of a feature (age) and a target (income).\n",
    "\n",
    "\n",
    "| Age | Income |\n",
    "| -- | -- |\n",
    "| 20 | 30000 |\n",
    "| 25 | 40000 |\n",
    "| 30 | 50000 |\n",
    "| 35 | 60000 |\n",
    "\n",
    "Let's create this in Pandas:"
   ]
  },
  {
   "cell_type": "code",
   "execution_count": 1,
   "id": "d74e3c3d",
   "metadata": {},
   "outputs": [
    {
     "data": {
      "text/html": [
       "<div>\n",
       "<style scoped>\n",
       "    .dataframe tbody tr th:only-of-type {\n",
       "        vertical-align: middle;\n",
       "    }\n",
       "\n",
       "    .dataframe tbody tr th {\n",
       "        vertical-align: top;\n",
       "    }\n",
       "\n",
       "    .dataframe thead th {\n",
       "        text-align: right;\n",
       "    }\n",
       "</style>\n",
       "<table border=\"1\" class=\"dataframe\">\n",
       "  <thead>\n",
       "    <tr style=\"text-align: right;\">\n",
       "      <th></th>\n",
       "      <th>Age</th>\n",
       "      <th>Income</th>\n",
       "    </tr>\n",
       "  </thead>\n",
       "  <tbody>\n",
       "    <tr>\n",
       "      <th>0</th>\n",
       "      <td>20</td>\n",
       "      <td>30000</td>\n",
       "    </tr>\n",
       "    <tr>\n",
       "      <th>1</th>\n",
       "      <td>25</td>\n",
       "      <td>40000</td>\n",
       "    </tr>\n",
       "    <tr>\n",
       "      <th>2</th>\n",
       "      <td>30</td>\n",
       "      <td>50000</td>\n",
       "    </tr>\n",
       "    <tr>\n",
       "      <th>3</th>\n",
       "      <td>35</td>\n",
       "      <td>60000</td>\n",
       "    </tr>\n",
       "  </tbody>\n",
       "</table>\n",
       "</div>"
      ],
      "text/plain": [
       "   Age  Income\n",
       "0   20   30000\n",
       "1   25   40000\n",
       "2   30   50000\n",
       "3   35   60000"
      ]
     },
     "execution_count": 1,
     "metadata": {},
     "output_type": "execute_result"
    }
   ],
   "source": [
    "# import dependencies\n",
    "import pandas as pd\n",
    "import numpy as np\n",
    "\n",
    "age_income_df = pd.DataFrame({\n",
    "    'Age': [20, 25, 30, 35],\n",
    "    'Income': [30000, 40000, 50000, 60000]\n",
    "})\n",
    "\n",
    "age_income_df.head()"
   ]
  },
  {
   "cell_type": "markdown",
   "id": "1348de8b",
   "metadata": {},
   "source": [
    "Now, let's apply NumPy's `permutation` function to the `Age` column, which will randomly shuffle the values in the column:"
   ]
  },
  {
   "cell_type": "code",
   "execution_count": 3,
   "id": "77995073",
   "metadata": {},
   "outputs": [
    {
     "data": {
      "text/html": [
       "<div>\n",
       "<style scoped>\n",
       "    .dataframe tbody tr th:only-of-type {\n",
       "        vertical-align: middle;\n",
       "    }\n",
       "\n",
       "    .dataframe tbody tr th {\n",
       "        vertical-align: top;\n",
       "    }\n",
       "\n",
       "    .dataframe thead th {\n",
       "        text-align: right;\n",
       "    }\n",
       "</style>\n",
       "<table border=\"1\" class=\"dataframe\">\n",
       "  <thead>\n",
       "    <tr style=\"text-align: right;\">\n",
       "      <th></th>\n",
       "      <th>Age</th>\n",
       "      <th>Income</th>\n",
       "      <th>Age_permuted</th>\n",
       "    </tr>\n",
       "  </thead>\n",
       "  <tbody>\n",
       "    <tr>\n",
       "      <th>0</th>\n",
       "      <td>20</td>\n",
       "      <td>30000</td>\n",
       "      <td>35</td>\n",
       "    </tr>\n",
       "    <tr>\n",
       "      <th>1</th>\n",
       "      <td>25</td>\n",
       "      <td>40000</td>\n",
       "      <td>25</td>\n",
       "    </tr>\n",
       "    <tr>\n",
       "      <th>2</th>\n",
       "      <td>30</td>\n",
       "      <td>50000</td>\n",
       "      <td>20</td>\n",
       "    </tr>\n",
       "    <tr>\n",
       "      <th>3</th>\n",
       "      <td>35</td>\n",
       "      <td>60000</td>\n",
       "      <td>30</td>\n",
       "    </tr>\n",
       "  </tbody>\n",
       "</table>\n",
       "</div>"
      ],
      "text/plain": [
       "   Age  Income  Age_permuted\n",
       "0   20   30000            35\n",
       "1   25   40000            25\n",
       "2   30   50000            20\n",
       "3   35   60000            30"
      ]
     },
     "execution_count": 3,
     "metadata": {},
     "output_type": "execute_result"
    }
   ],
   "source": [
    "# permute the Age column\n",
    "age_income_df['Age_permuted'] = np.random.permutation(age_income_df['Age'].values)\n",
    "\n",
    "age_income_df.head()"
   ]
  },
  {
   "cell_type": "markdown",
   "id": "97d8179e",
   "metadata": {},
   "source": [
    "## An algorithm"
   ]
  },
  {
   "cell_type": "markdown",
   "id": "dd8002eb",
   "metadata": {},
   "source": [
    "So let's review an algorithm for calculating permutation importance.\n",
    "\n",
    "1. First, train a machine learning model using a training dataset.\n",
    "2. Evaluate that model's baseline performance on a validation dataset using an evaluation metric (e.g. accuracy, mean squared error).\n",
    "3. Select the feature for which you want to calculate permutation importance.\n",
    "4. Copy the validation dataset.\n",
    "5. Randomly permute the values of the selected feature within the copied dataset while keeping the other features unchanged.\n",
    "6. Use the trained model to make predictions on the permuted data and calculate the evaluation metric.\n",
    "7. Compute the drop in performance by subtracting the permuted performance from the baseline performance.\n",
    "8. Repeat steps 4 to 7 multiple times to obtain a collection of performance drops.\n",
    "9. Calculate the permutation importance score for the feature by averaging the performance drops in step 8.\n",
    "10. Repeat steps 3 to 9 for each other feature of interest."
   ]
  },
  {
   "cell_type": "markdown",
   "id": "d6406061",
   "metadata": {},
   "source": [
    "Let's start to build out this algorithm in Python. First, we need a dataset, so let's use sklearn's `make_classification` to make a classification dataset for a binary classification task:"
   ]
  },
  {
   "cell_type": "code",
   "execution_count": 106,
   "id": "61cefd4d",
   "metadata": {},
   "outputs": [],
   "source": [
    "from sklearn.datasets import make_classification\n",
    "from sklearn.model_selection import train_test_split\n",
    "\n",
    "# make a classification dataset (binary class) with 20 features, 2 of which are informative\n",
    "X, y = make_classification(n_samples=1000, n_features=20, n_informative=10, n_classes=2)\n",
    "\n",
    "# split the dataset into training and test sets\n",
    "X_train, X_test, y_train, y_test = train_test_split(X, y, test_size=0.25, random_state=42)\n",
    "\n",
    "# split the training dataset into a training and dev/validation set\n",
    "X_train, X_val, y_train, y_val = train_test_split(X_train, y_train, test_size=0.25) "
   ]
  },
  {
   "cell_type": "markdown",
   "id": "966fc868",
   "metadata": {},
   "source": [
    "Now we're going to instantiate a logistic classifier and get a baseline accuracy score on our validation set."
   ]
  },
  {
   "cell_type": "code",
   "execution_count": 107,
   "id": "887b1f60",
   "metadata": {},
   "outputs": [
    {
     "name": "stdout",
     "output_type": "stream",
     "text": [
      "Baseline accuracy: 0.76\n"
     ]
    }
   ],
   "source": [
    "from sklearn.linear_model import LogisticRegression\n",
    "from sklearn.metrics import accuracy_score\n",
    "\n",
    "base_model = LogisticRegression()\n",
    "base_model.fit(X_train, y_train)\n",
    "\n",
    "y_val_pred = base_model.predict(X_val)\n",
    "base_accuracy = accuracy_score(y_val, y_val_pred)\n",
    "print(f'Baseline accuracy: {base_accuracy:.2f}')"
   ]
  },
  {
   "cell_type": "markdown",
   "id": "eaf240c6",
   "metadata": {},
   "source": [
    "Let's turn this into a function which accepts a scikit-learn model as an input, as well as other optional parameters:"
   ]
  },
  {
   "cell_type": "code",
   "execution_count": 108,
   "id": "2e85511a",
   "metadata": {},
   "outputs": [],
   "source": [
    "def calc_permutation_importance(trained_model, X_val, y_val, n_permutations=100, features=None):\n",
    "    base_accuracy = trained_model.score(X_val, y_val)\n",
    "    print(f\"Baseline accuracy: {base_accuracy:.3f}\")\n",
    "    # Select the feature for which you want to calculate permutation importance.\n",
    "    if features:\n",
    "        pass\n",
    "    else: # all features\n",
    "        features = X_val.shape[1]\n",
    "        print(f\"Calculating permutations on all {features} features...\")\n",
    "        feature_importances = np.zeros(features)\n",
    "        for feature in range(features):\n",
    "            performance_drop_list = np.zeros(n_permutations)\n",
    "            for i in range(n_permutations):\n",
    "    \n",
    "                # Copy the validation dataset.\n",
    "                X_val_copy = np.copy(X_val)\n",
    "\n",
    "                # Randomly permute the values of the selected feature within the copied dataset\n",
    "                X_val_copy[:,feature] = np.random.permutation(X_val[:,feature])\n",
    "\n",
    "                # Use the trained model to make predictions on the permuted data and calculate the evaluation metric.\n",
    "                permutation_pred = trained_model.predict(X_val_copy)\n",
    "                permutation_accuracy = accuracy_score(permutation_pred, y_val)\n",
    "\n",
    "                # Compute the drop in performance by subtracting the permuted performance from the baseline performance.\n",
    "                performance_drop = base_accuracy - permutation_accuracy\n",
    "\n",
    "                performance_drop_list[i] = performance_drop\n",
    "\n",
    "            permutation_score = performance_drop_list.mean()\n",
    "            print(f'Feature {feature} permutation score: {permutation_score}')\n",
    "            feature_importances[feature] = permutation_score\n",
    "    return feature_importances"
   ]
  },
  {
   "cell_type": "code",
   "execution_count": 109,
   "id": "be8635d3",
   "metadata": {},
   "outputs": [
    {
     "name": "stdout",
     "output_type": "stream",
     "text": [
      "Baseline accuracy: 0.761\n",
      "Calculating permutations on all 20 features...\n",
      "Feature 0 permutation score: 0.0023404255319148582\n",
      "Feature 1 permutation score: -0.010319148936170251\n",
      "Feature 2 permutation score: 0.07473404255319144\n",
      "Feature 3 permutation score: -0.008510638297872372\n",
      "Feature 4 permutation score: -0.016914893617021302\n",
      "Feature 5 permutation score: 0.0865425531914893\n",
      "Feature 6 permutation score: -0.011702127659574499\n",
      "Feature 7 permutation score: -0.013244680851063863\n",
      "Feature 8 permutation score: 0.0019680851063829463\n",
      "Feature 9 permutation score: 0.0018617021276595325\n",
      "Feature 10 permutation score: -0.0035106382978723726\n",
      "Feature 11 permutation score: -0.006489361702127693\n",
      "Feature 12 permutation score: -5.319148936170914e-05\n",
      "Feature 13 permutation score: -0.012340425531914927\n",
      "Feature 14 permutation score: -0.012925531914893656\n",
      "Feature 15 permutation score: 0.02015957446808506\n",
      "Feature 16 permutation score: -0.007925531914893653\n",
      "Feature 17 permutation score: 0.05925531914893612\n",
      "Feature 18 permutation score: 0.00686170212765953\n",
      "Feature 19 permutation score: -0.007500000000000034\n"
     ]
    }
   ],
   "source": [
    "imp = calc_permutation_importance(base_model, X_val, y_val)"
   ]
  },
  {
   "cell_type": "code",
   "execution_count": 110,
   "id": "71c9371a",
   "metadata": {},
   "outputs": [
    {
     "data": {
      "text/plain": [
       "<BarContainer object of 20 artists>"
      ]
     },
     "execution_count": 110,
     "metadata": {},
     "output_type": "execute_result"
    },
    {
     "data": {
      "image/png": "[encoded data removed]",
      "text/plain": [
       "<Figure size 640x480 with 1 Axes>"
      ]
     },
     "metadata": {},
     "output_type": "display_data"
    }
   ],
   "source": [
    "import matplotlib.pyplot as plt\n",
    "\n",
    "plt.bar(range(20), imp)"
   ]
  },
  {
   "cell_type": "code",
   "execution_count": null,
   "id": "cc57d724",
   "metadata": {},
   "outputs": [],
   "source": []
  }
 ],
 "metadata": {
  "kernelspec": {
   "display_name": "Python 3 (ipykernel)",
   "language": "python",
   "name": "python3"
  },
  "language_info": {
   "codemirror_mode": {
    "name": "ipython",
    "version": 3
   },
   "file_extension": ".py",
   "mimetype": "text/x-python",
   "name": "python",
   "nbconvert_exporter": "python",
   "pygments_lexer": "ipython3",
   "version": "3.10.9"
  }
 },
 "nbformat": 4,
 "nbformat_minor": 5
}
